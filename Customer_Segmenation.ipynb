{
  "nbformat": 4,
  "nbformat_minor": 0,
  "metadata": {
    "colab": {
      "provenance": [],
      "authorship_tag": "ABX9TyNiJETh5D0wZUxStBfyak2i",
      "include_colab_link": true
    },
    "kernelspec": {
      "name": "python3",
      "display_name": "Python 3"
    },
    "language_info": {
      "name": "python"
    }
  },
  "cells": [
    {
      "cell_type": "markdown",
      "metadata": {
        "id": "view-in-github",
        "colab_type": "text"
      },
      "source": [
        "<a href=\"https://colab.research.google.com/github/Payal2000/Customer-Segmentation-and-Clustering/blob/main/Customer_Segmenation.ipynb\" target=\"_parent\"><img src=\"https://colab.research.google.com/assets/colab-badge.svg\" alt=\"Open In Colab\"/></a>"
      ]
    },
    {
      "cell_type": "markdown",
      "source": [
        "# **Problem Statement**\n",
        "\n",
        "- Understanding the Target Customers for the marketing team to plan a strategy.\n",
        "\n",
        "- We want to identify the most important shopping groups based on income, age, the mall shopping score.\n",
        "- We would also want the ideal number of groups with a label for each."
      ],
      "metadata": {
        "id": "Cax7_ba1gaz7"
      }
    },
    {
      "cell_type": "markdown",
      "source": [
        "# **Objective Market Segmentation**\n",
        "\n",
        "- Divide the mall target market into approachable groups.\n",
        "- Creating a subsets of market based on demographics behavioral criteria to better understand the target for marketing activities.\n"
      ],
      "metadata": {
        "id": "0vdIoHzbhoQo"
      }
    },
    {
      "cell_type": "markdown",
      "source": [
        "# **Our Approach**\n",
        "1. Perform EDA ( Exploratoy Data Analysis )\n",
        "2. Use KMEANS Clustering Algorithms to create segments\n",
        "3. Use Summary Statistics on the clusters\n",
        "4. Visualization"
      ],
      "metadata": {
        "id": "WeV8croYiO1W"
      }
    },
    {
      "cell_type": "code",
      "source": [],
      "metadata": {
        "id": "X6vTRzvqgdRZ"
      },
      "execution_count": null,
      "outputs": []
    }
  ]
}