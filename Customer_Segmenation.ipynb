{
  "nbformat": 4,
  "nbformat_minor": 0,
  "metadata": {
    "colab": {
      "provenance": [],
      "authorship_tag": "ABX9TyOz2vYAOB2vERJUhn85NNlB",
      "include_colab_link": true
    },
    "kernelspec": {
      "name": "python3",
      "display_name": "Python 3"
    },
    "language_info": {
      "name": "python"
    }
  },
  "cells": [
    {
      "cell_type": "markdown",
      "metadata": {
        "id": "view-in-github",
        "colab_type": "text"
      },
      "source": [
        "<a href=\"https://colab.research.google.com/github/Payal2000/Customer-Segmentation-and-Clustering/blob/main/Customer_Segmenation.ipynb\" target=\"_parent\"><img src=\"https://colab.research.google.com/assets/colab-badge.svg\" alt=\"Open In Colab\"/></a>"
      ]
    },
    {
      "cell_type": "markdown",
      "source": [
        "# **Problem Statement**\n",
        "\n",
        "- Understanding the Target Customers for the marketing team to plan a strategy.\n",
        "\n",
        "- We want to identify the most important shopping groups based on income, age, the mall shopping score.\n",
        "- We would also want the ideal number of groups with a label for each."
      ],
      "metadata": {
        "id": "Cax7_ba1gaz7"
      }
    },
    {
      "cell_type": "markdown",
      "source": [
        "# **Objective Market Segmentation**\n",
        "\n",
        "- Divide the mall target market into approachable groups.\n",
        "- Creating a subsets of market based on demographics behavioral criteria to better understand the target for marketing activities.\n"
      ],
      "metadata": {
        "id": "0vdIoHzbhoQo"
      }
    },
    {
      "cell_type": "markdown",
      "source": [
        "# **Our Approach**\n",
        "1. Perform EDA ( Exploratoy Data Analysis )\n",
        "2. Use KMEANS Clustering Algorithms to create segments\n",
        "3. Use Summary Statistics on the clusters\n",
        "4. Visualization"
      ],
      "metadata": {
        "id": "WeV8croYiO1W"
      }
    },
    {
      "cell_type": "code",
      "source": [
        "import pandas as pd\n",
        "import numpy as np\n",
        "import matplotlib.pyplot as plt #Plotting\n",
        "from sklearn.cluster import KMeans #Clustering\n",
        "import seaborn as sns #Visualtization\n",
        "import warnings\n",
        "warnings.filterwarnings('ignore')"
      ],
      "metadata": {
        "id": "-gN4f9uSkE9A"
      },
      "execution_count": null,
      "outputs": []
    },
    {
      "cell_type": "code",
      "source": [
        "file_url = \"https://raw.githubusercontent.com/Payal2000/Customer-Segmentation-and-Clustering/main/data.csv\"\n",
        "data = pd.read_csv(file_url)\n"
      ],
      "metadata": {
        "id": "sRYapwWylSJn"
      },
      "execution_count": null,
      "outputs": []
    },
    {
      "cell_type": "code",
      "source": [],
      "metadata": {
        "id": "seDprDgcloZC"
      },
      "execution_count": null,
      "outputs": []
    }
  ]
}